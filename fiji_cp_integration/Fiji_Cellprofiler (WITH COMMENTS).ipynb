{
 "cells": [
  {
   "cell_type": "markdown",
   "metadata": {},
   "source": [
    "# Fiji Cellprofiler Python Connection\n",
    "## Import packages:"
   ]
  },
  {
   "cell_type": "code",
   "execution_count": 2,
   "metadata": {},
   "outputs": [],
   "source": [
    "import os\n",
    "import imagej\n",
    "from pathlib import Path\n",
    "import sys\n",
    "import csv\n",
    "import glob"
   ]
  },
  {
   "cell_type": "markdown",
   "metadata": {},
   "source": [
    "## Function to select a file via a dialogue window and return the file name:"
   ]
  },
  {
   "cell_type": "code",
   "execution_count": 3,
   "metadata": {},
   "outputs": [],
   "source": [
    "%gui qt \n",
    "\n",
    "#how to define gui \n",
    "\n",
    "from PyQt5.QtWidgets import QFileDialog #import QFileDilogue function \n",
    "\n",
    "def get_filename(dir=None): #Create a function to select a file via a dialogue window and return file name\n",
    "    if dir is None: dir ='./'\n",
    "    fname = QFileDialog.getOpenFileName(None, \"Select data file...\", \n",
    "                dir, filter=\"All files (*);; SM Files (*.sm)\")\n",
    "    return fname[0]"
   ]
  },
  {
   "cell_type": "markdown",
   "metadata": {},
   "source": [
    "## Function to select a folder via a dialogue window and return the folder path:"
   ]
  },
  {
   "cell_type": "code",
   "execution_count": 4,
   "metadata": {},
   "outputs": [],
   "source": [
    "%gui qt \n",
    "\n",
    "#how to define gui \n",
    "\n",
    "from PyQt5.QtWidgets import QFileDialog #import QFileDilogue function\n",
    "\n",
    "def get_folder(dir=None): #function to select a folder via a dialogue and return folder path\n",
    "    if dir is None: dir ='./'\n",
    "    fname = QFileDialog.getExistingDirectory(None, \"Select Directory...\")\n",
    "    return fname"
   ]
  },
  {
   "cell_type": "markdown",
   "metadata": {},
   "source": [
    "## Function to modify the macro file with chosen directories:"
   ]
  },
  {
   "cell_type": "code",
   "execution_count": 5,
   "metadata": {},
   "outputs": [],
   "source": [
    "def modify_macro(macro, directory_in, directory_out): #function to mdify the macro with updated information of directries output/input\n",
    "    \n",
    "    #To separate the method by OS\n",
    "    #if os.name == 'nt':         \n",
    "    \n",
    "    path_is_in=os.path.realpath(directory_in) #input directory\n",
    "    path_is_in=path_is_in.replace('\\\\', '/') #Windows paths to work in macro. In windows paths in the shell command contain two backslashes\n",
    "    #print(path_is_in)\n",
    "    path_is_out=os.path.realpath(directory_out) #output directory\n",
    "    path_is_out=path_is_out.replace('\\\\', '/')\n",
    "    #print(path_is_out)\n",
    "    if not os.path.exists(macro): #if variable doesnt have macro file saved, print 'macro file not there' (to make sure its selected)\n",
    "        print('Macro file not there...')\n",
    "        return False\n",
    "    else:\n",
    "        with open(macro, 'r+') as fp:  #open it in a read and write format\n",
    "            lines=fp.readlines()   #reads it line by line splits macro in 'inputDirectory' or 'outputDirectory' to insert a new one\n",
    "            for i, line in enumerate(lines):   \n",
    "                if line.startswith('inputDirectory'):\n",
    "                    lines[i]='inputDirectory = \"' + path_is_in + '/\";\\n'\n",
    "                elif line.startswith('outputDirectory'):\n",
    "                    lines[i]='outputDirectory = \"' + path_is_out + '/\";\\n'\n",
    "        with open(macro, 'r+') as fp:\n",
    "            fp.writelines(lines)  #we are adding modified line variable back to the file\n",
    "        return macro"
   ]
  },
  {
   "cell_type": "markdown",
   "metadata": {},
   "source": [
    "## Create a function that generates a csv file with paths to images (to be analyzed with Cellprofiler):"
   ]
  },
  {
   "cell_type": "code",
   "execution_count": 6,
   "metadata": {},
   "outputs": [],
   "source": [
    "def make_csv(var1):   \n",
    "    path_image=os.path.join(var1 + '/image_list.csv')\n",
    "    print('Image list csv file:\\n' + path_image)\n",
    "    if not os.path.exists(path_image):\n",
    "        with open(path_image, 'w') as fp:\n",
    "            pass\n",
    "    else:\n",
    "        os.remove(path_image)\n",
    "        with open(path_image,'w') as fp:\n",
    "            pass\n",
    "    path_image_files=os.path.join(var1, '*.tif')\n",
    "    for file in glob.glob(path_image_files):\n",
    "        #print('Writing...\\n' + file)\n",
    "        path_is=os.path.realpath(file)\n",
    "        #print('Real path:\\n' + path_is)\n",
    "        with open(path_image, 'a') as image_list:\n",
    "            dummywriter=csv.writer(image_list, delimiter=' ',\n",
    "                                    quotechar='|', quoting=csv.QUOTE_MINIMAL)\n",
    "            dummywriter.writerow([path_is])\n",
    "    return path_image"
   ]
  },
  {
   "cell_type": "markdown",
   "metadata": {},
   "source": [
    "## Initialize ImageJ using path to your ImageJ application:"
   ]
  },
  {
   "cell_type": "code",
   "execution_count": 7,
   "metadata": {},
   "outputs": [
    {
     "data": {
      "text/plain": [
       "'2.0.0-rc-69/1.52p'"
      ]
     },
     "execution_count": 7,
     "metadata": {},
     "output_type": "execute_result"
    }
   ],
   "source": [
    "ij = imagej.init('Downloads/Fiji.app')\n",
    "ij.getVersion() #Shows version of initialized ImageJ"
   ]
  },
  {
   "cell_type": "markdown",
   "metadata": {},
   "source": [
    "## Choose, open, and read a macro file:"
   ]
  },
  {
   "cell_type": "code",
   "execution_count": 9,
   "metadata": {},
   "outputs": [
    {
     "name": "stdout",
     "output_type": "stream",
     "text": [
      "Macro selected:\n",
      "/Users/sbp/notebook/fiji_cp_integration/umed3.ijm\n"
     ]
    }
   ],
   "source": [
    "macro_path=get_filename() #get_filename() is the function we have created above\n",
    "macro=open(macro_path) #opens the encoded file with the macro path\n",
    "macro=macro.read() #Decodes macro file to make it readable\n",
    "print('Macro selected:\\n' + macro_path) #prints macro path"
   ]
  },
  {
   "cell_type": "markdown",
   "metadata": {},
   "source": [
    "## Choose a folder with images to be analyzed with FIJI:"
   ]
  },
  {
   "cell_type": "code",
   "execution_count": 12,
   "metadata": {},
   "outputs": [
    {
     "name": "stdout",
     "output_type": "stream",
     "text": [
      "Image is in:\n",
      "/Users/sbp/Documents/Images 042 TEST/Input 042 TEST\n"
     ]
    }
   ],
   "source": [
    "fiji_in=get_folder() #Choose a folder with the get_folder() function created above \n",
    "print('Image is in:\\n' + fiji_in) #Print folder path"
   ]
  },
  {
   "cell_type": "markdown",
   "metadata": {},
   "source": [
    "## Create a folder where the images will be stored after they are analyzed with FIJI:"
   ]
  },
  {
   "cell_type": "code",
   "execution_count": 13,
   "metadata": {},
   "outputs": [
    {
     "name": "stdout",
     "output_type": "stream",
     "text": [
      "Image will be saved in:\n",
      "/Users/sbp/Documents/Images 042 TEST/Input 042 TEST_post_fiji\n"
     ]
    }
   ],
   "source": [
    "fiji_out = str(fiji_in + '_post_fiji') #selecting a folder with a new name where imajes will be saved after FIJI analysis\n",
    "if not os.path.exists(fiji_out):  #the first time the code is run this folder doesn't exist so it will be created\n",
    "    os.makedirs(fiji_out) \n",
    "print('Image will be saved in:\\n' + fiji_out) #print folder path"
   ]
  },
  {
   "cell_type": "markdown",
   "metadata": {},
   "source": [
    "## Modify the macro file with new directories:"
   ]
  },
  {
   "cell_type": "code",
   "execution_count": 14,
   "metadata": {},
   "outputs": [],
   "source": [
    "try:\n",
    "    macro_path=modify_macro(macro_path, fiji_in, fiji_out) #calling the modify_macro() function created above with the path to macro, input, and output folders\n",
    "    macro=open(macro_path)\n",
    "    macro=macro.read()\n",
    "except:                                \n",
    "    print(\"Unexpected error:\", sys.exc_info()[0]) #in case there is an error print \"unexpected error\"\n",
    "    raise"
   ]
  },
  {
   "cell_type": "markdown",
   "metadata": {},
   "source": [
    "## Run the macro:"
   ]
  },
  {
   "cell_type": "code",
   "execution_count": 16,
   "metadata": {},
   "outputs": [
    {
     "data": {
      "text/plain": [
       "<org.scijava.script.ScriptModule at 0x11ed486b0 jclass=org/scijava/script/ScriptModule jself=<LocalRef obj=0x7fc28e47df98 at 0x11ba43790>>"
      ]
     },
     "execution_count": 16,
     "metadata": {},
     "output_type": "execute_result"
    }
   ],
   "source": [
    "ij.py.run_macro(macro)"
   ]
  },
  {
   "cell_type": "markdown",
   "metadata": {},
   "source": [
    "## Create an output folder to save results after Cellprofiler:"
   ]
  },
  {
   "cell_type": "code",
   "execution_count": 17,
   "metadata": {},
   "outputs": [
    {
     "name": "stdout",
     "output_type": "stream",
     "text": [
      "The final results will be saved in:\n",
      "/Users/sbp/Documents/Images 042 TEST/Input 042 TEST_post_Cellprofiler\n"
     ]
    }
   ],
   "source": [
    "cp_out = str(fiji_in + '_post_Cellprofiler') \n",
    "if not os.path.exists(cp_out):\n",
    "    os.makedirs(cp_out)\n",
    "print('The final results will be saved in:\\n' + cp_out)"
   ]
  },
  {
   "cell_type": "markdown",
   "metadata": {},
   "source": [
    "## Create a csv file with image paths (for Cellprofiler):"
   ]
  },
  {
   "cell_type": "code",
   "execution_count": 18,
   "metadata": {},
   "outputs": [
    {
     "name": "stdout",
     "output_type": "stream",
     "text": [
      "Image list csv file:\n",
      "/Users/sbp/Documents/Images 042 TEST/Input 042 TEST_post_fiji/image_list.csv\n"
     ]
    }
   ],
   "source": [
    "path_image = make_csv(fiji_out) #calling the make_csv() function created above"
   ]
  },
  {
   "cell_type": "markdown",
   "metadata": {},
   "source": [
    "## Choose a pipeline file (for Cellprofiler):"
   ]
  },
  {
   "cell_type": "code",
   "execution_count": 19,
   "metadata": {},
   "outputs": [
    {
     "name": "stdout",
     "output_type": "stream",
     "text": [
      "Pipeline:\n",
      "/Users/sbp/Downloads/speckle_v2.cppipe\n"
     ]
    }
   ],
   "source": [
    "pipe = get_filename() #calling get_filename() function created above\n",
    "print('Pipeline:\\n' + pipe) #printing pipeline path"
   ]
  },
  {
   "cell_type": "markdown",
   "metadata": {},
   "source": [
    "## Modifying the paths for the shell command (needed for windows only):"
   ]
  },
  {
   "cell_type": "code",
   "execution_count": 58,
   "metadata": {},
   "outputs": [
    {
     "name": "stdout",
     "output_type": "stream",
     "text": [
      "\\\\Users\\\\sbp\\\\Downloads\\\\speckle_v2.cppipe\n",
      "/Users/sbp/Documents/Images 042 TEST/Input 042 TEST_post_fiji/image_list.csv\n",
      "\\\\Users\\\\sbp\\\\Documents\\\\Images 042 TEST\\\\Input 042 TEST_post_Cellprofiler\n"
     ]
    }
   ],
   "source": [
    "#pipe = pipe.replace(r'/','/')   #Four backslashes are read as two backslashes in the shell command \n",
    "#cp_in = path_image.replace(r'/','/')\n",
    "#cp_out = cp_out.replace(r'/','/')\n",
    "#print(pipe) #printing out paths to see what they look like\n",
    "#print(cp_in)\n",
    "#print(cp_out)"
   ]
  },
  {
   "cell_type": "markdown",
   "metadata": {},
   "source": [
    "## Look for the cellprofiler.exe in any given device and modify the pathname to be readable in the shell:"
   ]
  },
  {
   "cell_type": "code",
   "execution_count": 51,
   "metadata": {},
   "outputs": [
    {
     "name": "stdout",
     "output_type": "stream",
     "text": [
      "[]\n"
     ]
    },
    {
     "ename": "IndexError",
     "evalue": "list index out of range",
     "output_type": "error",
     "traceback": [
      "\u001b[0;31m---------------------------------------------------------------------------\u001b[0m",
      "\u001b[0;31mIndexError\u001b[0m                                Traceback (most recent call last)",
      "\u001b[0;32m<ipython-input-51-55b60b1b3ea5>\u001b[0m in \u001b[0;36m<module>\u001b[0;34m\u001b[0m\n\u001b[1;32m      3\u001b[0m \u001b[0mpath_tmp\u001b[0m\u001b[0;34m=\u001b[0m\u001b[0mstr\u001b[0m\u001b[0;34m(\u001b[0m\u001b[0mos\u001b[0m\u001b[0;34m.\u001b[0m\u001b[0mpath\u001b[0m\u001b[0;34m.\u001b[0m\u001b[0mnormpath\u001b[0m\u001b[0;34m(\u001b[0m\u001b[0mtmp\u001b[0m\u001b[0;34m)\u001b[0m\u001b[0;34m.\u001b[0m\u001b[0mstrip\u001b[0m\u001b[0;34m(\u001b[0m\u001b[0;34m\"['']\"\u001b[0m\u001b[0;34m)\u001b[0m\u001b[0;34m)\u001b[0m  \u001b[0;31m#when you find the file it comes out as a list with one element. Eliminating this list\u001b[0m\u001b[0;34m\u001b[0m\u001b[0;34m\u001b[0m\u001b[0m\n\u001b[1;32m      4\u001b[0m \u001b[0mpath_list\u001b[0m\u001b[0;34m=\u001b[0m\u001b[0mpath_tmp\u001b[0m\u001b[0;34m.\u001b[0m\u001b[0msplit\u001b[0m\u001b[0;34m(\u001b[0m\u001b[0;34m'\\\\'\u001b[0m\u001b[0;34m)\u001b[0m \u001b[0;31m#splitting the part that contains program files\u001b[0m\u001b[0;34m\u001b[0m\u001b[0;34m\u001b[0m\u001b[0m\n\u001b[0;32m----> 5\u001b[0;31m \u001b[0mdir_name\u001b[0m\u001b[0;34m=\u001b[0m\u001b[0mpath_list\u001b[0m\u001b[0;34m[\u001b[0m\u001b[0;36m1\u001b[0m\u001b[0;34m]\u001b[0m\u001b[0;34m\u001b[0m\u001b[0;34m\u001b[0m\u001b[0m\n\u001b[0m\u001b[1;32m      6\u001b[0m \u001b[0;32mif\u001b[0m \u001b[0;34m'x86'\u001b[0m \u001b[0;32min\u001b[0m \u001b[0mdir_name\u001b[0m\u001b[0;34m:\u001b[0m\u001b[0;34m\u001b[0m\u001b[0;34m\u001b[0m\u001b[0m\n\u001b[1;32m      7\u001b[0m     \u001b[0mpath_list\u001b[0m\u001b[0;34m[\u001b[0m\u001b[0;36m1\u001b[0m\u001b[0;34m:\u001b[0m\u001b[0;36m2\u001b[0m\u001b[0;34m]\u001b[0m \u001b[0;34m=\u001b[0m \u001b[0;34m[\u001b[0m\u001b[0;34m'progra~2'\u001b[0m\u001b[0;34m]\u001b[0m   \u001b[0;31m#defined differently in the cdrive than in the shell\u001b[0m\u001b[0;34m\u001b[0m\u001b[0;34m\u001b[0m\u001b[0m\n",
      "\u001b[0;31mIndexError\u001b[0m: list index out of range"
     ]
    }
   ],
   "source": [
    "tmp=str(glob.glob('/*/*/CellProfiler'))#searching for cellprofiler within the cdrive\n",
    "print(tmp)\n",
    "path_tmp=str(os.path.normpath(tmp).strip(\"['']\"))  #when you find the file it comes out as a list with one element. Eliminating this list\n",
    "path_list=path_tmp.split('\\\\') #splitting the part that contains program files  \n",
    "dir_name=path_list[1]\n",
    "if 'x86' in dir_name:\n",
    "    path_list[1:2] = ['progra~2']   #defined differently in the cdrive than in the shell\n",
    "    s='\\\\\\\\'\n",
    "    cp=s.join(path_list)\n",
    "else:\n",
    "    path_list[1:2] = ['progra~1'] #defined differently in the cdrive than in the shell\n",
    "    s='\\\\\\\\'\n",
    "    cp=s.join(path_list)\n",
    "print(cp)"
   ]
  },
  {
   "cell_type": "code",
   "execution_count": 50,
   "metadata": {},
   "outputs": [
    {
     "data": {
      "text/plain": [
       "'[]'"
      ]
     },
     "execution_count": 50,
     "metadata": {},
     "output_type": "execute_result"
    }
   ],
   "source": [
    "tmp"
   ]
  },
  {
   "cell_type": "code",
   "execution_count": 47,
   "metadata": {},
   "outputs": [
    {
     "data": {
      "text/plain": [
       "''"
      ]
     },
     "execution_count": 47,
     "metadata": {},
     "output_type": "execute_result"
    }
   ],
   "source": [
    "path_tmp"
   ]
  },
  {
   "cell_type": "code",
   "execution_count": 48,
   "metadata": {},
   "outputs": [
    {
     "data": {
      "text/plain": [
       "['']"
      ]
     },
     "execution_count": 48,
     "metadata": {},
     "output_type": "execute_result"
    }
   ],
   "source": [
    "path_list"
   ]
  },
  {
   "cell_type": "code",
   "execution_count": 34,
   "metadata": {},
   "outputs": [
    {
     "name": "stdout",
     "output_type": "stream",
     "text": [
      "Downloads\\\\progra~1\n"
     ]
    }
   ],
   "source": [
    "#tmp=str(glob.glob('/*/*/CellProfiler.exe'))#searching for cellprofiler within the cdrive\n",
    "tmp='Users/sbp/Downloads/CellProfiler-3.1.9.app'\n",
    "#path_tmp=str(os.path.normpath(tmp).strip(\"['']\"))  #when you find the file it comes out as a list with one element. Eliminating this list\n",
    "path_list=path_tmp.split('/') #splitting the part that contains program files  \n",
    "dir_name=path_list[1]\n",
    "if 'x86' in dir_name:\n",
    "    path_list[1:2] = ['progra~2']   #defined differently in the cdrive than in the shell\n",
    "    s='\\\\\\\\'\n",
    "    cp=s.join(path_list)\n",
    "else:\n",
    "    path_list[1:2] = ['progra~1'] #defined differently in the cdrive than in the shell\n",
    "    s='\\\\\\\\'\n",
    "    cp=s.join(path_list)\n",
    "print(cp)"
   ]
  },
  {
   "cell_type": "code",
   "execution_count": 39,
   "metadata": {},
   "outputs": [
    {
     "name": "stdout",
     "output_type": "stream",
     "text": [
      "['Downloads', 'progra~1']\n",
      "Downloads/CellProfiler-3.1.9.app\n",
      "Downloads/CellProfiler-3.1.9.app\n"
     ]
    }
   ],
   "source": [
    "print(path_list)\n",
    "print(path_tmp)\n",
    "print(tmp) #I need to use open "
   ]
  },
  {
   "cell_type": "markdown",
   "metadata": {},
   "source": [
    "## Running the headless mode of Cellprofiler in the shell (so that t can run in the same notebook as FIJI):"
   ]
  },
  {
   "cell_type": "code",
   "execution_count": 55,
   "metadata": {},
   "outputs": [],
   "source": [
    "cmd= 'open -a /Users/sbp/Downloads/CellProfiler-3.1.9.app -r -c -p pipe --file-list=cp_in -o cp_out'"
   ]
  },
  {
   "cell_type": "code",
   "execution_count": 56,
   "metadata": {},
   "outputs": [
    {
     "name": "stdout",
     "output_type": "stream",
     "text": [
      "open -a /Users/sbp/Downloads/CellProfiler-3.1.9.app -r -c -p pipe --file-list=cp_in -o cp_out\n"
     ]
    },
    {
     "data": {
      "text/plain": [
       "256"
      ]
     },
     "execution_count": 56,
     "metadata": {},
     "output_type": "execute_result"
    }
   ],
   "source": [
    "#cmd = str(cp + ' -c -r -p ' + pipe + ' --file-list=' + cp_in + ' -o ' + cp_out)\n",
    "print(cmd)\n",
    "os.system(cmd) #this is how you run it in the shell\n",
    "#os.system('cellprofiler -r -c -p ~/project/speckle_v3.cppipe --file-list=/home/h3/project/image_out_fiji/image_list.csv -o ~/project/image_out_cp')"
   ]
  },
  {
   "cell_type": "code",
   "execution_count": null,
   "metadata": {},
   "outputs": [],
   "source": []
  }
 ],
 "metadata": {
  "kernelspec": {
   "display_name": "Python 3",
   "language": "python",
   "name": "python3"
  },
  "language_info": {
   "codemirror_mode": {
    "name": "ipython",
    "version": 3
   },
   "file_extension": ".py",
   "mimetype": "text/x-python",
   "name": "python",
   "nbconvert_exporter": "python",
   "pygments_lexer": "ipython3",
   "version": "3.7.7"
  }
 },
 "nbformat": 4,
 "nbformat_minor": 4
}
