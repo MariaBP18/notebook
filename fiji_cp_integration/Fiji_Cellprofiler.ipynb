{
 "cells": [
  {
   "cell_type": "code",
   "execution_count": 1,
   "metadata": {},
   "outputs": [],
   "source": [
    "import os\n",
    "import imagej\n",
    "from pathlib import Path\n",
    "import sys\n",
    "import csv\n",
    "import glob"
   ]
  },
  {
   "cell_type": "code",
   "execution_count": null,
   "metadata": {},
   "outputs": [],
   "source": [
    "\"\"\"Selects a file\"\"\"\n",
    "\n",
    "%gui qt\n",
    "\n",
    "from PyQt5.QtWidgets import QFileDialog\n",
    "\n",
    "def get_filename(dir=None):\n",
    "    \"\"\"Select a file via a dialog and return the file name.\"\"\"\n",
    "    if dir is None: dir ='./'\n",
    "    fname = QFileDialog.getOpenFileName(None, \"Select data file...\", \n",
    "                dir, filter=\"All files (*);; SM Files (*.sm)\")\n",
    "    return fname[0]"
   ]
  },
  {
   "cell_type": "code",
   "execution_count": null,
   "metadata": {},
   "outputs": [],
   "source": [
    "\"\"\"Selects a folder\"\"\"\n",
    "\n",
    "%gui qt\n",
    "\n",
    "from PyQt5.QtWidgets import QFileDialog\n",
    "\n",
    "def get_folder(dir=None):\n",
    "    \"\"\"Select a folder via a dialog and return the folder path.\"\"\"\n",
    "    if dir is None: dir ='./'\n",
    "    fname = QFileDialog.getExistingDirectory(None, \"Select Directory...\")\n",
    "    return fname"
   ]
  },
  {
   "cell_type": "code",
   "execution_count": null,
   "metadata": {},
   "outputs": [],
   "source": [
    "\"\"\"Modifies the macro file with the chosen directories\"\"\"\n",
    "\n",
    "def modify_macro(macro, directory_in, directory_out):\n",
    "    \n",
    "    #To separate the method by OS\n",
    "    #if os.name == 'nt':\n",
    "    \n",
    "    path_is_in=os.path.realpath(directory_in)\n",
    "    path_is_in=path_is_in.replace('\\\\', '/')\n",
    "    #print(path_is_in)\n",
    "    path_is_out=os.path.realpath(directory_out)\n",
    "    path_is_out=path_is_out.replace('\\\\', '/')\n",
    "    #print(path_is_out)\n",
    "    if not os.path.exists(macro):\n",
    "        print('Macro file not there...')\n",
    "        return False\n",
    "    else:\n",
    "        with open(macro, 'r+') as fp:\n",
    "            lines=fp.readlines()\n",
    "            for i, line in enumerate(lines):\n",
    "                if line.startswith('inputDirectory'):\n",
    "                    lines[i]='inputDirectory = \"' + path_is_in + '/\";\\n'\n",
    "                elif line.startswith('outputDirectory'):\n",
    "                    lines[i]='outputDirectory = \"' + path_is_out + '/\";\\n'\n",
    "        with open(macro, 'r+') as fp:\n",
    "            fp.writelines(lines)\n",
    "        return True"
   ]
  },
  {
   "cell_type": "code",
   "execution_count": null,
   "metadata": {},
   "outputs": [],
   "source": [
    "\"\"\"Makes a csv file with paths to images to analyze with Cellprofiler\"\"\"\n",
    "\n",
    "def make_csv(var1):\n",
    "    path_image=os.path.join(var1 + '/image_list.csv')\n",
    "    print('Image list csv file:\\n' + path_image)\n",
    "    if not os.path.exists(path_image):\n",
    "        with open(path_image, 'w') as fp:\n",
    "            pass\n",
    "    else:\n",
    "        os.remove(path_image)\n",
    "        with open(path_image,'w') as fp:\n",
    "            pass\n",
    "    path_image_files=os.path.join(var1, '*.tif')\n",
    "    for file in glob.glob(path_image_files):\n",
    "        #print('Writing...\\n' + file)\n",
    "        path_is=os.path.realpath(file)\n",
    "        #print('Real path:\\n' + path_is)\n",
    "        with open(path_image, 'a') as image_list:\n",
    "            dummywriter=csv.writer(image_list, delimiter=' ',\n",
    "                                    quotechar='|', quoting=csv.QUOTE_MINIMAL)\n",
    "            dummywriter.writerow([path_is])\n",
    "    return path_image"
   ]
  },
  {
   "cell_type": "code",
   "execution_count": 2,
   "metadata": {},
   "outputs": [
    {
     "data": {
      "text/plain": [
       "'2.0.0-rc-69/1.52p'"
      ]
     },
     "execution_count": 2,
     "metadata": {},
     "output_type": "execute_result"
    }
   ],
   "source": [
    "\"\"\"Initialize ImageJ\"\"\"\n",
    "\"\"\"Path to your ImageJ application\"\"\"\n",
    "\n",
    "ij=imagej.init('C:/Users/presi/Documents/Fiji')\n",
    "#ij=imagej.init('net.imagej:imagej+net.imagej:imagej-legacy')\n",
    "#ij=imagej.init('sc.fiji:fiji')\n",
    "ij.getVersion()"
   ]
  },
  {
   "cell_type": "code",
   "execution_count": null,
   "metadata": {},
   "outputs": [],
   "source": [
    "\"\"\"Choose a macro file\"\"\"\n",
    "\n",
    "macro_path=get_filename()\n",
    "macro=open(macro_path)\n",
    "macro=macro.read()\n",
    "print('Macro selected:\\n' + macro_path)"
   ]
  },
  {
   "cell_type": "code",
   "execution_count": null,
   "metadata": {},
   "outputs": [],
   "source": [
    "\"\"\"Choose a folder with images to analyze with Fiji\"\"\"\n",
    "\n",
    "fiji_in=get_folder()\n",
    "print('Image is in:\\n' + fiji_in)"
   ]
  },
  {
   "cell_type": "code",
   "execution_count": null,
   "metadata": {},
   "outputs": [],
   "source": [
    "\"\"\"Create a folder where the images will be stored after Fiji\"\"\"\n",
    "\n",
    "fiji_out = str(fiji_in + '_post_fiji') \n",
    "if not os.path.exists(fiji_out):\n",
    "    os.makedirs(fiji_out)\n",
    "print('Image will be saved in:\\n' + fiji_out)"
   ]
  },
  {
   "cell_type": "code",
   "execution_count": null,
   "metadata": {},
   "outputs": [],
   "source": [
    "\"\"\"Modify the macro file with new directories\"\"\"\n",
    "\n",
    "try:\n",
    "    modify_macro(macro_path, fiji_in, fiji_out)\n",
    "except:\n",
    "    print(\"Unexpected error:\", sys.exc_info()[0])\n",
    "    raise"
   ]
  },
  {
   "cell_type": "code",
   "execution_count": null,
   "metadata": {},
   "outputs": [],
   "source": [
    "\"\"\"Run the macro\"\"\"\n",
    "\n",
    "ij.py.run_macro(macro)"
   ]
  },
  {
   "cell_type": "code",
   "execution_count": null,
   "metadata": {},
   "outputs": [],
   "source": [
    "\"\"\"Create an output folder to save results after Cellprofiler\"\"\"\n",
    "cp_out = str(fiji_in + '_post_Cellprofiler') \n",
    "if not os.path.exists(cp_out):\n",
    "    os.makedirs(cp_out)\n",
    "print('The final results will be saved in:\\n' + cp_out)"
   ]
  },
  {
   "cell_type": "code",
   "execution_count": null,
   "metadata": {},
   "outputs": [],
   "source": [
    "\"\"\"Create a csv file with image paths for Cellprofiler\"\"\"\n",
    "\n",
    "path_image = make_csv(fiji_out)"
   ]
  },
  {
   "cell_type": "code",
   "execution_count": null,
   "metadata": {},
   "outputs": [],
   "source": [
    "\"\"\"Choose a pipeline file\"\"\"\n",
    "\n",
    "pipe = get_filename()\n",
    "print('Pipeline:\\n' + pipe)"
   ]
  },
  {
   "cell_type": "code",
   "execution_count": null,
   "metadata": {},
   "outputs": [],
   "source": [
    "\"\"\"Modify the paths for shell command\"\"\"\n",
    "\n",
    "pipe = pipe.replace(r'/','\\\\\\\\')\n",
    "cp_in = path_image.replace(r'/','\\\\\\\\')\n",
    "cp_out = cp_out.replace(r'/','\\\\\\\\')\n",
    "print(pipe)\n",
    "print(cp_in)\n",
    "print(cp_out)"
   ]
  },
  {
   "cell_type": "code",
   "execution_count": null,
   "metadata": {},
   "outputs": [],
   "source": [
    "\"\"\"Run Cellprofiler in shell\"\"\"\n",
    "cmd = str('CellProfiler.lnk -c -r -p ' + pipe + ' --file-list=' + cp_in + ' -o ' + cp_out)\n",
    "#print(cmd)\n",
    "os.system(cmd)\n",
    "    #os.system('cellprofiler -r -c -p ~/project/speckle_v3.cppipe --file-list=/home/h3/project/image_out_fiji/image_list.csv -o ~/project/image_out_cp')"
   ]
  }
 ],
 "metadata": {
  "kernelspec": {
   "display_name": "Python 3",
   "language": "python",
   "name": "python3"
  },
  "language_info": {
   "codemirror_mode": {
    "name": "ipython",
    "version": 3
   },
   "file_extension": ".py",
   "mimetype": "text/x-python",
   "name": "python",
   "nbconvert_exporter": "python",
   "pygments_lexer": "ipython3",
   "version": "3.6.10"
  }
 },
 "nbformat": 4,
 "nbformat_minor": 4
}
